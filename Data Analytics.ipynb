{
 "cells": [
  {
   "cell_type": "markdown",
   "id": "7426c26a",
   "metadata": {},
   "source": [
    "# Numpy"
   ]
  },
  {
   "cell_type": "code",
   "execution_count": 2,
   "id": "0bbcabf1",
   "metadata": {},
   "outputs": [],
   "source": [
    "import numpy as np"
   ]
  },
  {
   "cell_type": "code",
   "execution_count": 4,
   "id": "7f2390c4",
   "metadata": {},
   "outputs": [
    {
     "data": {
      "text/plain": [
       "(2, 3)"
      ]
     },
     "execution_count": 4,
     "metadata": {},
     "output_type": "execute_result"
    }
   ],
   "source": [
    "a = np.array([[1, 2, 3],\n",
    "              [1, 2, 3]])\n",
    "a.shape"
   ]
  },
  {
   "cell_type": "code",
   "execution_count": 5,
   "id": "18398752",
   "metadata": {},
   "outputs": [
    {
     "data": {
      "text/plain": [
       "array([ 1,  2,  3,  4,  5,  6,  7,  8,  9, 10])"
      ]
     },
     "execution_count": 5,
     "metadata": {},
     "output_type": "execute_result"
    }
   ],
   "source": [
    "a = np.array([1 , 2 , 3 , 4 , 5 , 6 , 7 , 8 , 9 , 10])\n",
    "a"
   ]
  },
  {
   "cell_type": "code",
   "execution_count": 6,
   "id": "14bf30ab",
   "metadata": {},
   "outputs": [
    {
     "data": {
      "text/plain": [
       "1"
      ]
     },
     "execution_count": 6,
     "metadata": {},
     "output_type": "execute_result"
    }
   ],
   "source": [
    "a[0]"
   ]
  },
  {
   "cell_type": "code",
   "execution_count": 8,
   "id": "5e6c0c84",
   "metadata": {},
   "outputs": [
    {
     "data": {
      "text/plain": [
       "array([2, 3, 4, 5])"
      ]
     },
     "execution_count": 8,
     "metadata": {},
     "output_type": "execute_result"
    }
   ],
   "source": [
    "# slicing\n",
    "a[1:5]"
   ]
  },
  {
   "cell_type": "code",
   "execution_count": 9,
   "id": "6b7e0587",
   "metadata": {},
   "outputs": [
    {
     "data": {
      "text/plain": [
       "1"
      ]
     },
     "execution_count": 9,
     "metadata": {},
     "output_type": "execute_result"
    }
   ],
   "source": [
    "#for dimension\n",
    "a.ndim"
   ]
  },
  {
   "cell_type": "code",
   "execution_count": 10,
   "id": "40bbefc4",
   "metadata": {},
   "outputs": [
    {
     "data": {
      "text/plain": [
       "10"
      ]
     },
     "execution_count": 10,
     "metadata": {},
     "output_type": "execute_result"
    }
   ],
   "source": [
    "# number of elements in a array\n",
    "a.size"
   ]
  },
  {
   "cell_type": "code",
   "execution_count": 11,
   "id": "bbc95d6e",
   "metadata": {},
   "outputs": [
    {
     "data": {
      "text/plain": [
       "array([0., 0., 0., 0., 0., 0., 0., 0., 0., 0.])"
      ]
     },
     "execution_count": 11,
     "metadata": {},
     "output_type": "execute_result"
    }
   ],
   "source": [
    "np.zeros(10)"
   ]
  },
  {
   "cell_type": "code",
   "execution_count": 12,
   "id": "f10bdf0f",
   "metadata": {},
   "outputs": [
    {
     "data": {
      "text/plain": [
       "array([1., 1., 1., 1., 1., 1., 1., 1., 1., 1.])"
      ]
     },
     "execution_count": 12,
     "metadata": {},
     "output_type": "execute_result"
    }
   ],
   "source": [
    "np.ones(10)"
   ]
  },
  {
   "cell_type": "code",
   "execution_count": 14,
   "id": "e26399c5",
   "metadata": {},
   "outputs": [
    {
     "data": {
      "text/plain": [
       "array([4.24399158e-314, 2.12199579e-314, 6.36598737e-314])"
      ]
     },
     "execution_count": 14,
     "metadata": {},
     "output_type": "execute_result"
    }
   ],
   "source": [
    "np.empty(3)"
   ]
  },
  {
   "cell_type": "code",
   "execution_count": 15,
   "id": "2001406b",
   "metadata": {},
   "outputs": [
    {
     "data": {
      "text/plain": [
       "array([0, 1, 2, 3, 4, 5, 6, 7, 8, 9])"
      ]
     },
     "execution_count": 15,
     "metadata": {},
     "output_type": "execute_result"
    }
   ],
   "source": [
    "np.arange(10)"
   ]
  },
  {
   "cell_type": "code",
   "execution_count": 16,
   "id": "2b3daac2",
   "metadata": {},
   "outputs": [
    {
     "data": {
      "text/plain": [
       "array([1, 3, 5, 7, 9])"
      ]
     },
     "execution_count": 16,
     "metadata": {},
     "output_type": "execute_result"
    }
   ],
   "source": [
    "np.arange(1,10,2)"
   ]
  },
  {
   "cell_type": "code",
   "execution_count": 17,
   "id": "f4877c58",
   "metadata": {},
   "outputs": [],
   "source": [
    "b = np.array([1,3,2,4,6,5,6,8,6,8,9,8])"
   ]
  },
  {
   "cell_type": "code",
   "execution_count": 18,
   "id": "f0d3a5f7",
   "metadata": {},
   "outputs": [
    {
     "data": {
      "text/plain": [
       "array([1, 2, 3, 4, 5, 6, 6, 6, 8, 8, 8, 9])"
      ]
     },
     "execution_count": 18,
     "metadata": {},
     "output_type": "execute_result"
    }
   ],
   "source": [
    "np.sort(b)"
   ]
  },
  {
   "cell_type": "code",
   "execution_count": 19,
   "id": "474603ae",
   "metadata": {},
   "outputs": [
    {
     "data": {
      "text/plain": [
       "array([ 1,  2,  3,  4,  5,  6,  7,  8,  9, 10,  1,  3,  2,  4,  6,  5,  6,\n",
       "        8,  6,  8,  9,  8])"
      ]
     },
     "execution_count": 19,
     "metadata": {},
     "output_type": "execute_result"
    }
   ],
   "source": [
    "np.concatenate((a,b))"
   ]
  },
  {
   "cell_type": "code",
   "execution_count": 23,
   "id": "fda90f0a",
   "metadata": {},
   "outputs": [],
   "source": [
    "c = np.array([1,2,3,4,5,6,7,8,9,0,10,11,22,33,44,55,66,77,88,99,100])"
   ]
  },
  {
   "cell_type": "code",
   "execution_count": 34,
   "id": "da637702",
   "metadata": {},
   "outputs": [
    {
     "data": {
      "text/plain": [
       "(21,)"
      ]
     },
     "execution_count": 34,
     "metadata": {},
     "output_type": "execute_result"
    }
   ],
   "source": [
    "c.shape"
   ]
  },
  {
   "cell_type": "code",
   "execution_count": 35,
   "id": "09d4f075",
   "metadata": {},
   "outputs": [
    {
     "name": "stdout",
     "output_type": "stream",
     "text": [
      "[ True  True  True  True  True  True  True  True  True  True  True  True\n",
      "  True  True  True False False False False False False]\n"
     ]
    }
   ],
   "source": [
    "print(c<50)"
   ]
  },
  {
   "cell_type": "code",
   "execution_count": 61,
   "id": "41c814af",
   "metadata": {},
   "outputs": [
    {
     "name": "stdout",
     "output_type": "stream",
     "text": [
      "[[ 1  2  3  4  5]\n",
      " [ 6  7  8  9 10]]\n"
     ]
    }
   ],
   "source": [
    "a = np.array([1,2,3,4,5])\n",
    "b = np.array([6,7,8,9,10])\n",
    "\n",
    "s = np.vstack((a,b))\n",
    "print(s)"
   ]
  },
  {
   "cell_type": "code",
   "execution_count": 43,
   "id": "967c66ed",
   "metadata": {},
   "outputs": [
    {
     "data": {
      "text/plain": [
       "array([ 1,  2,  3,  4,  5,  6,  7,  8,  9, 10])"
      ]
     },
     "execution_count": 43,
     "metadata": {},
     "output_type": "execute_result"
    }
   ],
   "source": [
    "np.hstack((a,b))"
   ]
  },
  {
   "cell_type": "code",
   "execution_count": 44,
   "id": "d0afc0dc",
   "metadata": {},
   "outputs": [],
   "source": [
    "e = a.copy()"
   ]
  },
  {
   "cell_type": "code",
   "execution_count": 45,
   "id": "47eb019d",
   "metadata": {},
   "outputs": [
    {
     "data": {
      "text/plain": [
       "array([1, 2, 3, 4, 5])"
      ]
     },
     "execution_count": 45,
     "metadata": {},
     "output_type": "execute_result"
    }
   ],
   "source": [
    "e"
   ]
  },
  {
   "cell_type": "code",
   "execution_count": 46,
   "id": "06924930",
   "metadata": {},
   "outputs": [
    {
     "data": {
      "text/plain": [
       "15"
      ]
     },
     "execution_count": 46,
     "metadata": {},
     "output_type": "execute_result"
    }
   ],
   "source": [
    "a.sum()"
   ]
  },
  {
   "cell_type": "code",
   "execution_count": 47,
   "id": "356828b6",
   "metadata": {},
   "outputs": [
    {
     "data": {
      "text/plain": [
       "array([100, 200, 300, 400, 500])"
      ]
     },
     "execution_count": 47,
     "metadata": {},
     "output_type": "execute_result"
    }
   ],
   "source": [
    "a * 100"
   ]
  },
  {
   "cell_type": "code",
   "execution_count": 49,
   "id": "2f785e70",
   "metadata": {},
   "outputs": [
    {
     "data": {
      "text/plain": [
       "array([0.5, 1. , 1.5, 2. , 2.5])"
      ]
     },
     "execution_count": 49,
     "metadata": {},
     "output_type": "execute_result"
    }
   ],
   "source": [
    "a / 2"
   ]
  },
  {
   "cell_type": "code",
   "execution_count": 50,
   "id": "c4c9c108",
   "metadata": {},
   "outputs": [
    {
     "data": {
      "text/plain": [
       "5"
      ]
     },
     "execution_count": 50,
     "metadata": {},
     "output_type": "execute_result"
    }
   ],
   "source": [
    "a.max()"
   ]
  },
  {
   "cell_type": "code",
   "execution_count": 51,
   "id": "af342198",
   "metadata": {},
   "outputs": [
    {
     "data": {
      "text/plain": [
       "1"
      ]
     },
     "execution_count": 51,
     "metadata": {},
     "output_type": "execute_result"
    }
   ],
   "source": [
    "a.min()"
   ]
  },
  {
   "cell_type": "code",
   "execution_count": 52,
   "id": "62001a95",
   "metadata": {},
   "outputs": [
    {
     "data": {
      "text/plain": [
       "3.0"
      ]
     },
     "execution_count": 52,
     "metadata": {},
     "output_type": "execute_result"
    }
   ],
   "source": [
    "a.mean()"
   ]
  },
  {
   "cell_type": "code",
   "execution_count": 53,
   "id": "9b707910",
   "metadata": {},
   "outputs": [
    {
     "data": {
      "text/plain": [
       "array([ 7,  9, 11, 13, 15])"
      ]
     },
     "execution_count": 53,
     "metadata": {},
     "output_type": "execute_result"
    }
   ],
   "source": [
    "a +  b"
   ]
  },
  {
   "cell_type": "code",
   "execution_count": 54,
   "id": "d750bef5",
   "metadata": {},
   "outputs": [
    {
     "data": {
      "text/plain": [
       "array([-5, -5, -5, -5, -5])"
      ]
     },
     "execution_count": 54,
     "metadata": {},
     "output_type": "execute_result"
    }
   ],
   "source": [
    "a - b"
   ]
  },
  {
   "cell_type": "code",
   "execution_count": 55,
   "id": "99c0c93a",
   "metadata": {},
   "outputs": [
    {
     "data": {
      "text/plain": [
       "array([ 6, 14, 24, 36, 50])"
      ]
     },
     "execution_count": 55,
     "metadata": {},
     "output_type": "execute_result"
    }
   ],
   "source": [
    "a * b"
   ]
  },
  {
   "cell_type": "code",
   "execution_count": 56,
   "id": "40e97dc7",
   "metadata": {},
   "outputs": [
    {
     "data": {
      "text/plain": [
       "array([0.16666667, 0.28571429, 0.375     , 0.44444444, 0.5       ])"
      ]
     },
     "execution_count": 56,
     "metadata": {},
     "output_type": "execute_result"
    }
   ],
   "source": [
    "a / b"
   ]
  },
  {
   "cell_type": "code",
   "execution_count": 58,
   "id": "5c2ede29",
   "metadata": {},
   "outputs": [],
   "source": [
    "f = np.array([1,2,2,2,3,4,5,6,7,8,99,7,6,5,43,2])"
   ]
  },
  {
   "cell_type": "code",
   "execution_count": 59,
   "id": "48ae6411",
   "metadata": {},
   "outputs": [
    {
     "data": {
      "text/plain": [
       "array([ 1,  2,  3,  4,  5,  6,  7,  8, 43, 99])"
      ]
     },
     "execution_count": 59,
     "metadata": {},
     "output_type": "execute_result"
    }
   ],
   "source": [
    "np.unique(f)"
   ]
  },
  {
   "cell_type": "code",
   "execution_count": 63,
   "id": "bbf62687",
   "metadata": {},
   "outputs": [
    {
     "name": "stdout",
     "output_type": "stream",
     "text": [
      "[[ 1  2  3  4  5]\n",
      " [ 6  7  8  9 10]]\n"
     ]
    }
   ],
   "source": [
    "print(s)"
   ]
  },
  {
   "cell_type": "code",
   "execution_count": 64,
   "id": "d0294cdb",
   "metadata": {},
   "outputs": [
    {
     "data": {
      "text/plain": [
       "array([[ 1,  6],\n",
       "       [ 2,  7],\n",
       "       [ 3,  8],\n",
       "       [ 4,  9],\n",
       "       [ 5, 10]])"
      ]
     },
     "execution_count": 64,
     "metadata": {},
     "output_type": "execute_result"
    }
   ],
   "source": [
    "s.transpose()"
   ]
  },
  {
   "cell_type": "code",
   "execution_count": 65,
   "id": "bcdf4893",
   "metadata": {},
   "outputs": [
    {
     "data": {
      "text/plain": [
       "array([[ 1,  6],\n",
       "       [ 2,  7],\n",
       "       [ 3,  8],\n",
       "       [ 4,  9],\n",
       "       [ 5, 10]])"
      ]
     },
     "execution_count": 65,
     "metadata": {},
     "output_type": "execute_result"
    }
   ],
   "source": [
    "s.T"
   ]
  },
  {
   "cell_type": "code",
   "execution_count": 66,
   "id": "c9aee00a",
   "metadata": {},
   "outputs": [
    {
     "data": {
      "text/plain": [
       "array([[10,  9,  8,  7,  6],\n",
       "       [ 5,  4,  3,  2,  1]])"
      ]
     },
     "execution_count": 66,
     "metadata": {},
     "output_type": "execute_result"
    }
   ],
   "source": [
    "# array get reversed\n",
    "np.flip(s)"
   ]
  },
  {
   "cell_type": "code",
   "execution_count": 67,
   "id": "a0f2679e",
   "metadata": {},
   "outputs": [
    {
     "data": {
      "text/plain": [
       "array([ 1,  2,  3,  4,  5,  6,  7,  8,  9, 10, 11, 12, 13, 14, 15, 16])"
      ]
     },
     "execution_count": 67,
     "metadata": {},
     "output_type": "execute_result"
    }
   ],
   "source": [
    "# make your array into 1D array\n",
    "g = np.array([[1 , 2, 3, 4], [5, 6, 7, 8], [9, 10, 11, 12] , [13, 14, 15, 16]])\n",
    "g.flatten()"
   ]
  },
  {
   "cell_type": "code",
   "execution_count": 68,
   "id": "87763e26",
   "metadata": {},
   "outputs": [
    {
     "data": {
      "text/plain": [
       "array([[ 1,  2,  3,  4,  5],\n",
       "       [ 6,  7,  8,  9, 10]])"
      ]
     },
     "execution_count": 68,
     "metadata": {},
     "output_type": "execute_result"
    }
   ],
   "source": [
    "s"
   ]
  },
  {
   "cell_type": "code",
   "execution_count": 69,
   "id": "9ca987bb",
   "metadata": {},
   "outputs": [
    {
     "data": {
      "text/plain": [
       "array([ 1,  2,  3,  4,  5,  6,  7,  8,  9, 10])"
      ]
     },
     "execution_count": 69,
     "metadata": {},
     "output_type": "execute_result"
    }
   ],
   "source": [
    "# make your array into 1D array\n",
    "s.ravel()"
   ]
  },
  {
   "cell_type": "code",
   "execution_count": 74,
   "id": "921d595e",
   "metadata": {},
   "outputs": [
    {
     "name": "stdout",
     "output_type": "stream",
     "text": [
      "Help on built-in function min in module builtins:\n",
      "\n",
      "min(...)\n",
      "    min(iterable, *[, default=obj, key=func]) -> value\n",
      "    min(arg1, arg2, *args, *[, key=func]) -> value\n",
      "    \n",
      "    With a single iterable argument, return its smallest item. The\n",
      "    default keyword-only argument specifies an object to return if\n",
      "    the provided iterable is empty.\n",
      "    With two or more arguments, return the smallest argument.\n",
      "\n"
     ]
    }
   ],
   "source": [
    "help(min)"
   ]
  },
  {
   "cell_type": "markdown",
   "id": "e4523384",
   "metadata": {},
   "source": [
    "# Pandas"
   ]
  },
  {
   "cell_type": "code",
   "execution_count": 76,
   "id": "78a2af3d",
   "metadata": {},
   "outputs": [],
   "source": [
    "import pandas as pd"
   ]
  },
  {
   "cell_type": "code",
   "execution_count": 80,
   "id": "8ba48089",
   "metadata": {},
   "outputs": [
    {
     "data": {
      "text/html": [
       "<div>\n",
       "<style scoped>\n",
       "    .dataframe tbody tr th:only-of-type {\n",
       "        vertical-align: middle;\n",
       "    }\n",
       "\n",
       "    .dataframe tbody tr th {\n",
       "        vertical-align: top;\n",
       "    }\n",
       "\n",
       "    .dataframe thead th {\n",
       "        text-align: right;\n",
       "    }\n",
       "</style>\n",
       "<table border=\"1\" class=\"dataframe\">\n",
       "  <thead>\n",
       "    <tr style=\"text-align: right;\">\n",
       "      <th></th>\n",
       "      <th>A</th>\n",
       "    </tr>\n",
       "  </thead>\n",
       "  <tbody>\n",
       "    <tr>\n",
       "      <th>0</th>\n",
       "      <td>1</td>\n",
       "    </tr>\n",
       "    <tr>\n",
       "      <th>1</th>\n",
       "      <td>2</td>\n",
       "    </tr>\n",
       "    <tr>\n",
       "      <th>2</th>\n",
       "      <td>3</td>\n",
       "    </tr>\n",
       "  </tbody>\n",
       "</table>\n",
       "</div>"
      ],
      "text/plain": [
       "   A\n",
       "0  1\n",
       "1  2\n",
       "2  3"
      ]
     },
     "execution_count": 80,
     "metadata": {},
     "output_type": "execute_result"
    }
   ],
   "source": [
    "pd.DataFrame({'A': [1, 2, 3]})"
   ]
  },
  {
   "cell_type": "code",
   "execution_count": 85,
   "id": "6ff91f85",
   "metadata": {},
   "outputs": [
    {
     "data": {
      "text/plain": [
       "0    1.0\n",
       "1    2.0\n",
       "2    3.0\n",
       "3    4.0\n",
       "4    5.0\n",
       "5    6.0\n",
       "6    7.0\n",
       "7    NaN\n",
       "dtype: float64"
      ]
     },
     "execution_count": 85,
     "metadata": {},
     "output_type": "execute_result"
    }
   ],
   "source": [
    "s = pd.Series([1,2,3,4,5,6,7,np.nan])\n",
    "s"
   ]
  },
  {
   "cell_type": "code",
   "execution_count": 94,
   "id": "6ad096ef",
   "metadata": {},
   "outputs": [
    {
     "data": {
      "text/plain": [
       "DatetimeIndex(['2024-04-01', '2024-04-02', '2024-04-03', '2024-04-04',\n",
       "               '2024-04-05', '2024-04-06', '2024-04-07', '2024-04-08',\n",
       "               '2024-04-09', '2024-04-10'],\n",
       "              dtype='datetime64[ns]', freq='D')"
      ]
     },
     "execution_count": 94,
     "metadata": {},
     "output_type": "execute_result"
    }
   ],
   "source": [
    "date = pd.date_range(\"20240401\", periods=10)\n",
    "date"
   ]
  },
  {
   "cell_type": "code",
   "execution_count": 99,
   "id": "36f0e233",
   "metadata": {},
   "outputs": [],
   "source": [
    "df = pd.DataFrame(np.random.randn(10, 4), index=date, columns=list(\"ABCD\"))"
   ]
  },
  {
   "cell_type": "code",
   "execution_count": 100,
   "id": "1a449f93",
   "metadata": {},
   "outputs": [
    {
     "data": {
      "text/html": [
       "<div>\n",
       "<style scoped>\n",
       "    .dataframe tbody tr th:only-of-type {\n",
       "        vertical-align: middle;\n",
       "    }\n",
       "\n",
       "    .dataframe tbody tr th {\n",
       "        vertical-align: top;\n",
       "    }\n",
       "\n",
       "    .dataframe thead th {\n",
       "        text-align: right;\n",
       "    }\n",
       "</style>\n",
       "<table border=\"1\" class=\"dataframe\">\n",
       "  <thead>\n",
       "    <tr style=\"text-align: right;\">\n",
       "      <th></th>\n",
       "      <th>A</th>\n",
       "      <th>B</th>\n",
       "      <th>C</th>\n",
       "      <th>D</th>\n",
       "    </tr>\n",
       "  </thead>\n",
       "  <tbody>\n",
       "    <tr>\n",
       "      <th>2024-04-01</th>\n",
       "      <td>0.294547</td>\n",
       "      <td>0.098186</td>\n",
       "      <td>1.069532</td>\n",
       "      <td>-0.544626</td>\n",
       "    </tr>\n",
       "    <tr>\n",
       "      <th>2024-04-02</th>\n",
       "      <td>-0.236064</td>\n",
       "      <td>-0.046320</td>\n",
       "      <td>-0.656822</td>\n",
       "      <td>-1.335055</td>\n",
       "    </tr>\n",
       "    <tr>\n",
       "      <th>2024-04-03</th>\n",
       "      <td>-1.169434</td>\n",
       "      <td>-0.200888</td>\n",
       "      <td>2.649257</td>\n",
       "      <td>-1.600009</td>\n",
       "    </tr>\n",
       "    <tr>\n",
       "      <th>2024-04-04</th>\n",
       "      <td>-0.615174</td>\n",
       "      <td>-0.008988</td>\n",
       "      <td>-0.416590</td>\n",
       "      <td>-1.368853</td>\n",
       "    </tr>\n",
       "    <tr>\n",
       "      <th>2024-04-05</th>\n",
       "      <td>-1.736736</td>\n",
       "      <td>-1.198327</td>\n",
       "      <td>0.405947</td>\n",
       "      <td>-0.895075</td>\n",
       "    </tr>\n",
       "    <tr>\n",
       "      <th>2024-04-06</th>\n",
       "      <td>-1.163557</td>\n",
       "      <td>-2.232601</td>\n",
       "      <td>1.421231</td>\n",
       "      <td>-0.307724</td>\n",
       "    </tr>\n",
       "    <tr>\n",
       "      <th>2024-04-07</th>\n",
       "      <td>-0.604983</td>\n",
       "      <td>-1.095105</td>\n",
       "      <td>-0.752102</td>\n",
       "      <td>-1.017102</td>\n",
       "    </tr>\n",
       "    <tr>\n",
       "      <th>2024-04-08</th>\n",
       "      <td>-0.191559</td>\n",
       "      <td>-0.507523</td>\n",
       "      <td>-0.605789</td>\n",
       "      <td>0.119537</td>\n",
       "    </tr>\n",
       "    <tr>\n",
       "      <th>2024-04-09</th>\n",
       "      <td>1.051745</td>\n",
       "      <td>-0.317009</td>\n",
       "      <td>0.928733</td>\n",
       "      <td>0.958397</td>\n",
       "    </tr>\n",
       "    <tr>\n",
       "      <th>2024-04-10</th>\n",
       "      <td>-1.886873</td>\n",
       "      <td>0.404516</td>\n",
       "      <td>0.210867</td>\n",
       "      <td>-0.606436</td>\n",
       "    </tr>\n",
       "  </tbody>\n",
       "</table>\n",
       "</div>"
      ],
      "text/plain": [
       "                   A         B         C         D\n",
       "2024-04-01  0.294547  0.098186  1.069532 -0.544626\n",
       "2024-04-02 -0.236064 -0.046320 -0.656822 -1.335055\n",
       "2024-04-03 -1.169434 -0.200888  2.649257 -1.600009\n",
       "2024-04-04 -0.615174 -0.008988 -0.416590 -1.368853\n",
       "2024-04-05 -1.736736 -1.198327  0.405947 -0.895075\n",
       "2024-04-06 -1.163557 -2.232601  1.421231 -0.307724\n",
       "2024-04-07 -0.604983 -1.095105 -0.752102 -1.017102\n",
       "2024-04-08 -0.191559 -0.507523 -0.605789  0.119537\n",
       "2024-04-09  1.051745 -0.317009  0.928733  0.958397\n",
       "2024-04-10 -1.886873  0.404516  0.210867 -0.606436"
      ]
     },
     "execution_count": 100,
     "metadata": {},
     "output_type": "execute_result"
    }
   ],
   "source": [
    "df"
   ]
  },
  {
   "cell_type": "code",
   "execution_count": 101,
   "id": "5334036b",
   "metadata": {},
   "outputs": [],
   "source": [
    "df2 = pd.DataFrame(\n",
    "    {\n",
    "        \"A\": 1.0,\n",
    "        \"B\": pd.Timestamp(\"20240401\"),\n",
    "        \"C\": pd.Series(4, index=list(range(4)), dtype=\"float32\"),\n",
    "        \"D\": np.array([3] * 4, dtype=\"int32\"),\n",
    "        \"E\": pd.Categorical([\"test\", \"train\", \"test\", \"train\"]),\n",
    "        \"F\": \"food\",\n",
    "    }\n",
    ")\n"
   ]
  },
  {
   "cell_type": "code",
   "execution_count": 102,
   "id": "1c002a20",
   "metadata": {},
   "outputs": [
    {
     "data": {
      "text/html": [
       "<div>\n",
       "<style scoped>\n",
       "    .dataframe tbody tr th:only-of-type {\n",
       "        vertical-align: middle;\n",
       "    }\n",
       "\n",
       "    .dataframe tbody tr th {\n",
       "        vertical-align: top;\n",
       "    }\n",
       "\n",
       "    .dataframe thead th {\n",
       "        text-align: right;\n",
       "    }\n",
       "</style>\n",
       "<table border=\"1\" class=\"dataframe\">\n",
       "  <thead>\n",
       "    <tr style=\"text-align: right;\">\n",
       "      <th></th>\n",
       "      <th>A</th>\n",
       "      <th>B</th>\n",
       "      <th>C</th>\n",
       "      <th>D</th>\n",
       "      <th>E</th>\n",
       "      <th>F</th>\n",
       "    </tr>\n",
       "  </thead>\n",
       "  <tbody>\n",
       "    <tr>\n",
       "      <th>0</th>\n",
       "      <td>1.0</td>\n",
       "      <td>2024-04-01</td>\n",
       "      <td>4.0</td>\n",
       "      <td>3</td>\n",
       "      <td>test</td>\n",
       "      <td>food</td>\n",
       "    </tr>\n",
       "    <tr>\n",
       "      <th>1</th>\n",
       "      <td>1.0</td>\n",
       "      <td>2024-04-01</td>\n",
       "      <td>4.0</td>\n",
       "      <td>3</td>\n",
       "      <td>train</td>\n",
       "      <td>food</td>\n",
       "    </tr>\n",
       "    <tr>\n",
       "      <th>2</th>\n",
       "      <td>1.0</td>\n",
       "      <td>2024-04-01</td>\n",
       "      <td>4.0</td>\n",
       "      <td>3</td>\n",
       "      <td>test</td>\n",
       "      <td>food</td>\n",
       "    </tr>\n",
       "    <tr>\n",
       "      <th>3</th>\n",
       "      <td>1.0</td>\n",
       "      <td>2024-04-01</td>\n",
       "      <td>4.0</td>\n",
       "      <td>3</td>\n",
       "      <td>train</td>\n",
       "      <td>food</td>\n",
       "    </tr>\n",
       "  </tbody>\n",
       "</table>\n",
       "</div>"
      ],
      "text/plain": [
       "     A          B    C  D      E     F\n",
       "0  1.0 2024-04-01  4.0  3   test  food\n",
       "1  1.0 2024-04-01  4.0  3  train  food\n",
       "2  1.0 2024-04-01  4.0  3   test  food\n",
       "3  1.0 2024-04-01  4.0  3  train  food"
      ]
     },
     "execution_count": 102,
     "metadata": {},
     "output_type": "execute_result"
    }
   ],
   "source": [
    "df2"
   ]
  },
  {
   "cell_type": "code",
   "execution_count": 104,
   "id": "2fb524ec",
   "metadata": {},
   "outputs": [
    {
     "data": {
      "text/plain": [
       "A           float64\n",
       "B    datetime64[ns]\n",
       "C           float32\n",
       "D             int32\n",
       "E          category\n",
       "F            object\n",
       "dtype: object"
      ]
     },
     "execution_count": 104,
     "metadata": {},
     "output_type": "execute_result"
    }
   ],
   "source": [
    "df2.dtypes"
   ]
  },
  {
   "cell_type": "code",
   "execution_count": 107,
   "id": "e22aa501",
   "metadata": {},
   "outputs": [
    {
     "data": {
      "text/html": [
       "<div>\n",
       "<style scoped>\n",
       "    .dataframe tbody tr th:only-of-type {\n",
       "        vertical-align: middle;\n",
       "    }\n",
       "\n",
       "    .dataframe tbody tr th {\n",
       "        vertical-align: top;\n",
       "    }\n",
       "\n",
       "    .dataframe thead th {\n",
       "        text-align: right;\n",
       "    }\n",
       "</style>\n",
       "<table border=\"1\" class=\"dataframe\">\n",
       "  <thead>\n",
       "    <tr style=\"text-align: right;\">\n",
       "      <th></th>\n",
       "      <th>A</th>\n",
       "      <th>B</th>\n",
       "      <th>C</th>\n",
       "      <th>D</th>\n",
       "    </tr>\n",
       "  </thead>\n",
       "  <tbody>\n",
       "    <tr>\n",
       "      <th>2024-04-01</th>\n",
       "      <td>0.294547</td>\n",
       "      <td>0.098186</td>\n",
       "      <td>1.069532</td>\n",
       "      <td>-0.544626</td>\n",
       "    </tr>\n",
       "    <tr>\n",
       "      <th>2024-04-02</th>\n",
       "      <td>-0.236064</td>\n",
       "      <td>-0.046320</td>\n",
       "      <td>-0.656822</td>\n",
       "      <td>-1.335055</td>\n",
       "    </tr>\n",
       "    <tr>\n",
       "      <th>2024-04-03</th>\n",
       "      <td>-1.169434</td>\n",
       "      <td>-0.200888</td>\n",
       "      <td>2.649257</td>\n",
       "      <td>-1.600009</td>\n",
       "    </tr>\n",
       "    <tr>\n",
       "      <th>2024-04-04</th>\n",
       "      <td>-0.615174</td>\n",
       "      <td>-0.008988</td>\n",
       "      <td>-0.416590</td>\n",
       "      <td>-1.368853</td>\n",
       "    </tr>\n",
       "    <tr>\n",
       "      <th>2024-04-05</th>\n",
       "      <td>-1.736736</td>\n",
       "      <td>-1.198327</td>\n",
       "      <td>0.405947</td>\n",
       "      <td>-0.895075</td>\n",
       "    </tr>\n",
       "  </tbody>\n",
       "</table>\n",
       "</div>"
      ],
      "text/plain": [
       "                   A         B         C         D\n",
       "2024-04-01  0.294547  0.098186  1.069532 -0.544626\n",
       "2024-04-02 -0.236064 -0.046320 -0.656822 -1.335055\n",
       "2024-04-03 -1.169434 -0.200888  2.649257 -1.600009\n",
       "2024-04-04 -0.615174 -0.008988 -0.416590 -1.368853\n",
       "2024-04-05 -1.736736 -1.198327  0.405947 -0.895075"
      ]
     },
     "execution_count": 107,
     "metadata": {},
     "output_type": "execute_result"
    }
   ],
   "source": [
    "df.head(5)"
   ]
  },
  {
   "cell_type": "code",
   "execution_count": 108,
   "id": "95be6e4c",
   "metadata": {},
   "outputs": [
    {
     "data": {
      "text/html": [
       "<div>\n",
       "<style scoped>\n",
       "    .dataframe tbody tr th:only-of-type {\n",
       "        vertical-align: middle;\n",
       "    }\n",
       "\n",
       "    .dataframe tbody tr th {\n",
       "        vertical-align: top;\n",
       "    }\n",
       "\n",
       "    .dataframe thead th {\n",
       "        text-align: right;\n",
       "    }\n",
       "</style>\n",
       "<table border=\"1\" class=\"dataframe\">\n",
       "  <thead>\n",
       "    <tr style=\"text-align: right;\">\n",
       "      <th></th>\n",
       "      <th>A</th>\n",
       "      <th>B</th>\n",
       "      <th>C</th>\n",
       "      <th>D</th>\n",
       "    </tr>\n",
       "  </thead>\n",
       "  <tbody>\n",
       "    <tr>\n",
       "      <th>2024-04-06</th>\n",
       "      <td>-1.163557</td>\n",
       "      <td>-2.232601</td>\n",
       "      <td>1.421231</td>\n",
       "      <td>-0.307724</td>\n",
       "    </tr>\n",
       "    <tr>\n",
       "      <th>2024-04-07</th>\n",
       "      <td>-0.604983</td>\n",
       "      <td>-1.095105</td>\n",
       "      <td>-0.752102</td>\n",
       "      <td>-1.017102</td>\n",
       "    </tr>\n",
       "    <tr>\n",
       "      <th>2024-04-08</th>\n",
       "      <td>-0.191559</td>\n",
       "      <td>-0.507523</td>\n",
       "      <td>-0.605789</td>\n",
       "      <td>0.119537</td>\n",
       "    </tr>\n",
       "    <tr>\n",
       "      <th>2024-04-09</th>\n",
       "      <td>1.051745</td>\n",
       "      <td>-0.317009</td>\n",
       "      <td>0.928733</td>\n",
       "      <td>0.958397</td>\n",
       "    </tr>\n",
       "    <tr>\n",
       "      <th>2024-04-10</th>\n",
       "      <td>-1.886873</td>\n",
       "      <td>0.404516</td>\n",
       "      <td>0.210867</td>\n",
       "      <td>-0.606436</td>\n",
       "    </tr>\n",
       "  </tbody>\n",
       "</table>\n",
       "</div>"
      ],
      "text/plain": [
       "                   A         B         C         D\n",
       "2024-04-06 -1.163557 -2.232601  1.421231 -0.307724\n",
       "2024-04-07 -0.604983 -1.095105 -0.752102 -1.017102\n",
       "2024-04-08 -0.191559 -0.507523 -0.605789  0.119537\n",
       "2024-04-09  1.051745 -0.317009  0.928733  0.958397\n",
       "2024-04-10 -1.886873  0.404516  0.210867 -0.606436"
      ]
     },
     "execution_count": 108,
     "metadata": {},
     "output_type": "execute_result"
    }
   ],
   "source": [
    "df.tail(5)"
   ]
  },
  {
   "cell_type": "code",
   "execution_count": 109,
   "id": "86436518",
   "metadata": {},
   "outputs": [
    {
     "data": {
      "text/plain": [
       "DatetimeIndex(['2024-04-01', '2024-04-02', '2024-04-03', '2024-04-04',\n",
       "               '2024-04-05', '2024-04-06', '2024-04-07', '2024-04-08',\n",
       "               '2024-04-09', '2024-04-10'],\n",
       "              dtype='datetime64[ns]', freq='D')"
      ]
     },
     "execution_count": 109,
     "metadata": {},
     "output_type": "execute_result"
    }
   ],
   "source": [
    "df.index"
   ]
  },
  {
   "cell_type": "code",
   "execution_count": 110,
   "id": "ffee3951",
   "metadata": {},
   "outputs": [
    {
     "data": {
      "text/plain": [
       "Index(['A', 'B', 'C', 'D'], dtype='object')"
      ]
     },
     "execution_count": 110,
     "metadata": {},
     "output_type": "execute_result"
    }
   ],
   "source": [
    "df.columns"
   ]
  },
  {
   "cell_type": "code",
   "execution_count": 111,
   "id": "25285a8a",
   "metadata": {},
   "outputs": [
    {
     "data": {
      "text/plain": [
       "array([[ 0.29454688,  0.09818634,  1.06953153, -0.54462559],\n",
       "       [-0.23606412, -0.04631966, -0.6568216 , -1.33505454],\n",
       "       [-1.16943358, -0.20088844,  2.64925733, -1.60000925],\n",
       "       [-0.61517376, -0.00898819, -0.4165902 , -1.36885322],\n",
       "       [-1.73673647, -1.19832676,  0.4059474 , -0.89507451],\n",
       "       [-1.16355673, -2.23260136,  1.42123109, -0.30772392],\n",
       "       [-0.60498274, -1.09510532, -0.75210237, -1.01710186],\n",
       "       [-0.19155874, -0.50752335, -0.60578871,  0.11953732],\n",
       "       [ 1.05174469, -0.31700876,  0.92873259,  0.95839744],\n",
       "       [-1.8868728 ,  0.4045156 ,  0.21086672, -0.60643591]])"
      ]
     },
     "execution_count": 111,
     "metadata": {},
     "output_type": "execute_result"
    }
   ],
   "source": [
    "# for numpy representation or showing the data without the labels (index and columns)\n",
    "df.to_numpy()"
   ]
  },
  {
   "cell_type": "code",
   "execution_count": 112,
   "id": "347f0162",
   "metadata": {},
   "outputs": [
    {
     "data": {
      "text/plain": [
       "array([[1.0, Timestamp('2024-04-01 00:00:00'), 4.0, 3, 'test', 'food'],\n",
       "       [1.0, Timestamp('2024-04-01 00:00:00'), 4.0, 3, 'train', 'food'],\n",
       "       [1.0, Timestamp('2024-04-01 00:00:00'), 4.0, 3, 'test', 'food'],\n",
       "       [1.0, Timestamp('2024-04-01 00:00:00'), 4.0, 3, 'train', 'food']],\n",
       "      dtype=object)"
      ]
     },
     "execution_count": 112,
     "metadata": {},
     "output_type": "execute_result"
    }
   ],
   "source": [
    "df2.to_numpy()"
   ]
  },
  {
   "cell_type": "code",
   "execution_count": 114,
   "id": "017d586b",
   "metadata": {},
   "outputs": [
    {
     "data": {
      "text/html": [
       "<div>\n",
       "<style scoped>\n",
       "    .dataframe tbody tr th:only-of-type {\n",
       "        vertical-align: middle;\n",
       "    }\n",
       "\n",
       "    .dataframe tbody tr th {\n",
       "        vertical-align: top;\n",
       "    }\n",
       "\n",
       "    .dataframe thead th {\n",
       "        text-align: right;\n",
       "    }\n",
       "</style>\n",
       "<table border=\"1\" class=\"dataframe\">\n",
       "  <thead>\n",
       "    <tr style=\"text-align: right;\">\n",
       "      <th></th>\n",
       "      <th>A</th>\n",
       "      <th>B</th>\n",
       "      <th>C</th>\n",
       "      <th>D</th>\n",
       "    </tr>\n",
       "  </thead>\n",
       "  <tbody>\n",
       "    <tr>\n",
       "      <th>count</th>\n",
       "      <td>4.0</td>\n",
       "      <td>4</td>\n",
       "      <td>4.0</td>\n",
       "      <td>4.0</td>\n",
       "    </tr>\n",
       "    <tr>\n",
       "      <th>mean</th>\n",
       "      <td>1.0</td>\n",
       "      <td>2024-04-01 00:00:00</td>\n",
       "      <td>4.0</td>\n",
       "      <td>3.0</td>\n",
       "    </tr>\n",
       "    <tr>\n",
       "      <th>min</th>\n",
       "      <td>1.0</td>\n",
       "      <td>2024-04-01 00:00:00</td>\n",
       "      <td>4.0</td>\n",
       "      <td>3.0</td>\n",
       "    </tr>\n",
       "    <tr>\n",
       "      <th>25%</th>\n",
       "      <td>1.0</td>\n",
       "      <td>2024-04-01 00:00:00</td>\n",
       "      <td>4.0</td>\n",
       "      <td>3.0</td>\n",
       "    </tr>\n",
       "    <tr>\n",
       "      <th>50%</th>\n",
       "      <td>1.0</td>\n",
       "      <td>2024-04-01 00:00:00</td>\n",
       "      <td>4.0</td>\n",
       "      <td>3.0</td>\n",
       "    </tr>\n",
       "    <tr>\n",
       "      <th>75%</th>\n",
       "      <td>1.0</td>\n",
       "      <td>2024-04-01 00:00:00</td>\n",
       "      <td>4.0</td>\n",
       "      <td>3.0</td>\n",
       "    </tr>\n",
       "    <tr>\n",
       "      <th>max</th>\n",
       "      <td>1.0</td>\n",
       "      <td>2024-04-01 00:00:00</td>\n",
       "      <td>4.0</td>\n",
       "      <td>3.0</td>\n",
       "    </tr>\n",
       "    <tr>\n",
       "      <th>std</th>\n",
       "      <td>0.0</td>\n",
       "      <td>NaN</td>\n",
       "      <td>0.0</td>\n",
       "      <td>0.0</td>\n",
       "    </tr>\n",
       "  </tbody>\n",
       "</table>\n",
       "</div>"
      ],
      "text/plain": [
       "         A                    B    C    D\n",
       "count  4.0                    4  4.0  4.0\n",
       "mean   1.0  2024-04-01 00:00:00  4.0  3.0\n",
       "min    1.0  2024-04-01 00:00:00  4.0  3.0\n",
       "25%    1.0  2024-04-01 00:00:00  4.0  3.0\n",
       "50%    1.0  2024-04-01 00:00:00  4.0  3.0\n",
       "75%    1.0  2024-04-01 00:00:00  4.0  3.0\n",
       "max    1.0  2024-04-01 00:00:00  4.0  3.0\n",
       "std    0.0                  NaN  0.0  0.0"
      ]
     },
     "execution_count": 114,
     "metadata": {},
     "output_type": "execute_result"
    }
   ],
   "source": [
    "# describe() used for summary\n",
    "df.describe()"
   ]
  },
  {
   "cell_type": "code",
   "execution_count": 116,
   "id": "b3305f7d",
   "metadata": {},
   "outputs": [
    {
     "data": {
      "text/html": [
       "<div>\n",
       "<style scoped>\n",
       "    .dataframe tbody tr th:only-of-type {\n",
       "        vertical-align: middle;\n",
       "    }\n",
       "\n",
       "    .dataframe tbody tr th {\n",
       "        vertical-align: top;\n",
       "    }\n",
       "\n",
       "    .dataframe thead th {\n",
       "        text-align: right;\n",
       "    }\n",
       "</style>\n",
       "<table border=\"1\" class=\"dataframe\">\n",
       "  <thead>\n",
       "    <tr style=\"text-align: right;\">\n",
       "      <th></th>\n",
       "      <th>2024-04-01</th>\n",
       "      <th>2024-04-02</th>\n",
       "      <th>2024-04-03</th>\n",
       "      <th>2024-04-04</th>\n",
       "      <th>2024-04-05</th>\n",
       "      <th>2024-04-06</th>\n",
       "      <th>2024-04-07</th>\n",
       "      <th>2024-04-08</th>\n",
       "      <th>2024-04-09</th>\n",
       "      <th>2024-04-10</th>\n",
       "    </tr>\n",
       "  </thead>\n",
       "  <tbody>\n",
       "    <tr>\n",
       "      <th>A</th>\n",
       "      <td>0.294547</td>\n",
       "      <td>-0.236064</td>\n",
       "      <td>-1.169434</td>\n",
       "      <td>-0.615174</td>\n",
       "      <td>-1.736736</td>\n",
       "      <td>-1.163557</td>\n",
       "      <td>-0.604983</td>\n",
       "      <td>-0.191559</td>\n",
       "      <td>1.051745</td>\n",
       "      <td>-1.886873</td>\n",
       "    </tr>\n",
       "    <tr>\n",
       "      <th>B</th>\n",
       "      <td>0.098186</td>\n",
       "      <td>-0.046320</td>\n",
       "      <td>-0.200888</td>\n",
       "      <td>-0.008988</td>\n",
       "      <td>-1.198327</td>\n",
       "      <td>-2.232601</td>\n",
       "      <td>-1.095105</td>\n",
       "      <td>-0.507523</td>\n",
       "      <td>-0.317009</td>\n",
       "      <td>0.404516</td>\n",
       "    </tr>\n",
       "    <tr>\n",
       "      <th>C</th>\n",
       "      <td>1.069532</td>\n",
       "      <td>-0.656822</td>\n",
       "      <td>2.649257</td>\n",
       "      <td>-0.416590</td>\n",
       "      <td>0.405947</td>\n",
       "      <td>1.421231</td>\n",
       "      <td>-0.752102</td>\n",
       "      <td>-0.605789</td>\n",
       "      <td>0.928733</td>\n",
       "      <td>0.210867</td>\n",
       "    </tr>\n",
       "    <tr>\n",
       "      <th>D</th>\n",
       "      <td>-0.544626</td>\n",
       "      <td>-1.335055</td>\n",
       "      <td>-1.600009</td>\n",
       "      <td>-1.368853</td>\n",
       "      <td>-0.895075</td>\n",
       "      <td>-0.307724</td>\n",
       "      <td>-1.017102</td>\n",
       "      <td>0.119537</td>\n",
       "      <td>0.958397</td>\n",
       "      <td>-0.606436</td>\n",
       "    </tr>\n",
       "  </tbody>\n",
       "</table>\n",
       "</div>"
      ],
      "text/plain": [
       "   2024-04-01  2024-04-02  2024-04-03  2024-04-04  2024-04-05  2024-04-06  \\\n",
       "A    0.294547   -0.236064   -1.169434   -0.615174   -1.736736   -1.163557   \n",
       "B    0.098186   -0.046320   -0.200888   -0.008988   -1.198327   -2.232601   \n",
       "C    1.069532   -0.656822    2.649257   -0.416590    0.405947    1.421231   \n",
       "D   -0.544626   -1.335055   -1.600009   -1.368853   -0.895075   -0.307724   \n",
       "\n",
       "   2024-04-07  2024-04-08  2024-04-09  2024-04-10  \n",
       "A   -0.604983   -0.191559    1.051745   -1.886873  \n",
       "B   -1.095105   -0.507523   -0.317009    0.404516  \n",
       "C   -0.752102   -0.605789    0.928733    0.210867  \n",
       "D   -1.017102    0.119537    0.958397   -0.606436  "
      ]
     },
     "execution_count": 116,
     "metadata": {},
     "output_type": "execute_result"
    }
   ],
   "source": [
    "# .T used for transpose\n",
    "df.T"
   ]
  },
  {
   "cell_type": "code",
   "execution_count": 118,
   "id": "2ea7405d",
   "metadata": {},
   "outputs": [
    {
     "data": {
      "text/html": [
       "<div>\n",
       "<style scoped>\n",
       "    .dataframe tbody tr th:only-of-type {\n",
       "        vertical-align: middle;\n",
       "    }\n",
       "\n",
       "    .dataframe tbody tr th {\n",
       "        vertical-align: top;\n",
       "    }\n",
       "\n",
       "    .dataframe thead th {\n",
       "        text-align: right;\n",
       "    }\n",
       "</style>\n",
       "<table border=\"1\" class=\"dataframe\">\n",
       "  <thead>\n",
       "    <tr style=\"text-align: right;\">\n",
       "      <th></th>\n",
       "      <th>D</th>\n",
       "      <th>C</th>\n",
       "      <th>B</th>\n",
       "      <th>A</th>\n",
       "    </tr>\n",
       "  </thead>\n",
       "  <tbody>\n",
       "    <tr>\n",
       "      <th>2024-04-01</th>\n",
       "      <td>-0.544626</td>\n",
       "      <td>1.069532</td>\n",
       "      <td>0.098186</td>\n",
       "      <td>0.294547</td>\n",
       "    </tr>\n",
       "    <tr>\n",
       "      <th>2024-04-02</th>\n",
       "      <td>-1.335055</td>\n",
       "      <td>-0.656822</td>\n",
       "      <td>-0.046320</td>\n",
       "      <td>-0.236064</td>\n",
       "    </tr>\n",
       "    <tr>\n",
       "      <th>2024-04-03</th>\n",
       "      <td>-1.600009</td>\n",
       "      <td>2.649257</td>\n",
       "      <td>-0.200888</td>\n",
       "      <td>-1.169434</td>\n",
       "    </tr>\n",
       "    <tr>\n",
       "      <th>2024-04-04</th>\n",
       "      <td>-1.368853</td>\n",
       "      <td>-0.416590</td>\n",
       "      <td>-0.008988</td>\n",
       "      <td>-0.615174</td>\n",
       "    </tr>\n",
       "    <tr>\n",
       "      <th>2024-04-05</th>\n",
       "      <td>-0.895075</td>\n",
       "      <td>0.405947</td>\n",
       "      <td>-1.198327</td>\n",
       "      <td>-1.736736</td>\n",
       "    </tr>\n",
       "    <tr>\n",
       "      <th>2024-04-06</th>\n",
       "      <td>-0.307724</td>\n",
       "      <td>1.421231</td>\n",
       "      <td>-2.232601</td>\n",
       "      <td>-1.163557</td>\n",
       "    </tr>\n",
       "    <tr>\n",
       "      <th>2024-04-07</th>\n",
       "      <td>-1.017102</td>\n",
       "      <td>-0.752102</td>\n",
       "      <td>-1.095105</td>\n",
       "      <td>-0.604983</td>\n",
       "    </tr>\n",
       "    <tr>\n",
       "      <th>2024-04-08</th>\n",
       "      <td>0.119537</td>\n",
       "      <td>-0.605789</td>\n",
       "      <td>-0.507523</td>\n",
       "      <td>-0.191559</td>\n",
       "    </tr>\n",
       "    <tr>\n",
       "      <th>2024-04-09</th>\n",
       "      <td>0.958397</td>\n",
       "      <td>0.928733</td>\n",
       "      <td>-0.317009</td>\n",
       "      <td>1.051745</td>\n",
       "    </tr>\n",
       "    <tr>\n",
       "      <th>2024-04-10</th>\n",
       "      <td>-0.606436</td>\n",
       "      <td>0.210867</td>\n",
       "      <td>0.404516</td>\n",
       "      <td>-1.886873</td>\n",
       "    </tr>\n",
       "  </tbody>\n",
       "</table>\n",
       "</div>"
      ],
      "text/plain": [
       "                   D         C         B         A\n",
       "2024-04-01 -0.544626  1.069532  0.098186  0.294547\n",
       "2024-04-02 -1.335055 -0.656822 -0.046320 -0.236064\n",
       "2024-04-03 -1.600009  2.649257 -0.200888 -1.169434\n",
       "2024-04-04 -1.368853 -0.416590 -0.008988 -0.615174\n",
       "2024-04-05 -0.895075  0.405947 -1.198327 -1.736736\n",
       "2024-04-06 -0.307724  1.421231 -2.232601 -1.163557\n",
       "2024-04-07 -1.017102 -0.752102 -1.095105 -0.604983\n",
       "2024-04-08  0.119537 -0.605789 -0.507523 -0.191559\n",
       "2024-04-09  0.958397  0.928733 -0.317009  1.051745\n",
       "2024-04-10 -0.606436  0.210867  0.404516 -1.886873"
      ]
     },
     "execution_count": 118,
     "metadata": {},
     "output_type": "execute_result"
    }
   ],
   "source": [
    "df.sort_index(axis = 1 ,ascending = False)"
   ]
  },
  {
   "cell_type": "code",
   "execution_count": 120,
   "id": "33d5142d",
   "metadata": {},
   "outputs": [
    {
     "data": {
      "text/html": [
       "<div>\n",
       "<style scoped>\n",
       "    .dataframe tbody tr th:only-of-type {\n",
       "        vertical-align: middle;\n",
       "    }\n",
       "\n",
       "    .dataframe tbody tr th {\n",
       "        vertical-align: top;\n",
       "    }\n",
       "\n",
       "    .dataframe thead th {\n",
       "        text-align: right;\n",
       "    }\n",
       "</style>\n",
       "<table border=\"1\" class=\"dataframe\">\n",
       "  <thead>\n",
       "    <tr style=\"text-align: right;\">\n",
       "      <th></th>\n",
       "      <th>A</th>\n",
       "      <th>B</th>\n",
       "      <th>C</th>\n",
       "      <th>D</th>\n",
       "    </tr>\n",
       "  </thead>\n",
       "  <tbody>\n",
       "    <tr>\n",
       "      <th>2024-04-10</th>\n",
       "      <td>-1.886873</td>\n",
       "      <td>0.404516</td>\n",
       "      <td>0.210867</td>\n",
       "      <td>-0.606436</td>\n",
       "    </tr>\n",
       "    <tr>\n",
       "      <th>2024-04-05</th>\n",
       "      <td>-1.736736</td>\n",
       "      <td>-1.198327</td>\n",
       "      <td>0.405947</td>\n",
       "      <td>-0.895075</td>\n",
       "    </tr>\n",
       "    <tr>\n",
       "      <th>2024-04-03</th>\n",
       "      <td>-1.169434</td>\n",
       "      <td>-0.200888</td>\n",
       "      <td>2.649257</td>\n",
       "      <td>-1.600009</td>\n",
       "    </tr>\n",
       "    <tr>\n",
       "      <th>2024-04-06</th>\n",
       "      <td>-1.163557</td>\n",
       "      <td>-2.232601</td>\n",
       "      <td>1.421231</td>\n",
       "      <td>-0.307724</td>\n",
       "    </tr>\n",
       "    <tr>\n",
       "      <th>2024-04-04</th>\n",
       "      <td>-0.615174</td>\n",
       "      <td>-0.008988</td>\n",
       "      <td>-0.416590</td>\n",
       "      <td>-1.368853</td>\n",
       "    </tr>\n",
       "    <tr>\n",
       "      <th>2024-04-07</th>\n",
       "      <td>-0.604983</td>\n",
       "      <td>-1.095105</td>\n",
       "      <td>-0.752102</td>\n",
       "      <td>-1.017102</td>\n",
       "    </tr>\n",
       "    <tr>\n",
       "      <th>2024-04-02</th>\n",
       "      <td>-0.236064</td>\n",
       "      <td>-0.046320</td>\n",
       "      <td>-0.656822</td>\n",
       "      <td>-1.335055</td>\n",
       "    </tr>\n",
       "    <tr>\n",
       "      <th>2024-04-08</th>\n",
       "      <td>-0.191559</td>\n",
       "      <td>-0.507523</td>\n",
       "      <td>-0.605789</td>\n",
       "      <td>0.119537</td>\n",
       "    </tr>\n",
       "    <tr>\n",
       "      <th>2024-04-01</th>\n",
       "      <td>0.294547</td>\n",
       "      <td>0.098186</td>\n",
       "      <td>1.069532</td>\n",
       "      <td>-0.544626</td>\n",
       "    </tr>\n",
       "    <tr>\n",
       "      <th>2024-04-09</th>\n",
       "      <td>1.051745</td>\n",
       "      <td>-0.317009</td>\n",
       "      <td>0.928733</td>\n",
       "      <td>0.958397</td>\n",
       "    </tr>\n",
       "  </tbody>\n",
       "</table>\n",
       "</div>"
      ],
      "text/plain": [
       "                   A         B         C         D\n",
       "2024-04-10 -1.886873  0.404516  0.210867 -0.606436\n",
       "2024-04-05 -1.736736 -1.198327  0.405947 -0.895075\n",
       "2024-04-03 -1.169434 -0.200888  2.649257 -1.600009\n",
       "2024-04-06 -1.163557 -2.232601  1.421231 -0.307724\n",
       "2024-04-04 -0.615174 -0.008988 -0.416590 -1.368853\n",
       "2024-04-07 -0.604983 -1.095105 -0.752102 -1.017102\n",
       "2024-04-02 -0.236064 -0.046320 -0.656822 -1.335055\n",
       "2024-04-08 -0.191559 -0.507523 -0.605789  0.119537\n",
       "2024-04-01  0.294547  0.098186  1.069532 -0.544626\n",
       "2024-04-09  1.051745 -0.317009  0.928733  0.958397"
      ]
     },
     "execution_count": 120,
     "metadata": {},
     "output_type": "execute_result"
    }
   ],
   "source": [
    "df.sort_values(by = \"A\")"
   ]
  },
  {
   "cell_type": "code",
   "execution_count": 121,
   "id": "891a6b4c",
   "metadata": {},
   "outputs": [
    {
     "data": {
      "text/html": [
       "<div>\n",
       "<style scoped>\n",
       "    .dataframe tbody tr th:only-of-type {\n",
       "        vertical-align: middle;\n",
       "    }\n",
       "\n",
       "    .dataframe tbody tr th {\n",
       "        vertical-align: top;\n",
       "    }\n",
       "\n",
       "    .dataframe thead th {\n",
       "        text-align: right;\n",
       "    }\n",
       "</style>\n",
       "<table border=\"1\" class=\"dataframe\">\n",
       "  <thead>\n",
       "    <tr style=\"text-align: right;\">\n",
       "      <th></th>\n",
       "      <th>A</th>\n",
       "      <th>B</th>\n",
       "      <th>C</th>\n",
       "    </tr>\n",
       "  </thead>\n",
       "  <tbody>\n",
       "    <tr>\n",
       "      <th>2024-04-01</th>\n",
       "      <td>0.294547</td>\n",
       "      <td>0.098186</td>\n",
       "      <td>1.069532</td>\n",
       "    </tr>\n",
       "    <tr>\n",
       "      <th>2024-04-02</th>\n",
       "      <td>-0.236064</td>\n",
       "      <td>-0.046320</td>\n",
       "      <td>-0.656822</td>\n",
       "    </tr>\n",
       "    <tr>\n",
       "      <th>2024-04-03</th>\n",
       "      <td>-1.169434</td>\n",
       "      <td>-0.200888</td>\n",
       "      <td>2.649257</td>\n",
       "    </tr>\n",
       "    <tr>\n",
       "      <th>2024-04-04</th>\n",
       "      <td>-0.615174</td>\n",
       "      <td>-0.008988</td>\n",
       "      <td>-0.416590</td>\n",
       "    </tr>\n",
       "    <tr>\n",
       "      <th>2024-04-05</th>\n",
       "      <td>-1.736736</td>\n",
       "      <td>-1.198327</td>\n",
       "      <td>0.405947</td>\n",
       "    </tr>\n",
       "    <tr>\n",
       "      <th>2024-04-06</th>\n",
       "      <td>-1.163557</td>\n",
       "      <td>-2.232601</td>\n",
       "      <td>1.421231</td>\n",
       "    </tr>\n",
       "    <tr>\n",
       "      <th>2024-04-07</th>\n",
       "      <td>-0.604983</td>\n",
       "      <td>-1.095105</td>\n",
       "      <td>-0.752102</td>\n",
       "    </tr>\n",
       "    <tr>\n",
       "      <th>2024-04-08</th>\n",
       "      <td>-0.191559</td>\n",
       "      <td>-0.507523</td>\n",
       "      <td>-0.605789</td>\n",
       "    </tr>\n",
       "    <tr>\n",
       "      <th>2024-04-09</th>\n",
       "      <td>1.051745</td>\n",
       "      <td>-0.317009</td>\n",
       "      <td>0.928733</td>\n",
       "    </tr>\n",
       "    <tr>\n",
       "      <th>2024-04-10</th>\n",
       "      <td>-1.886873</td>\n",
       "      <td>0.404516</td>\n",
       "      <td>0.210867</td>\n",
       "    </tr>\n",
       "  </tbody>\n",
       "</table>\n",
       "</div>"
      ],
      "text/plain": [
       "                   A         B         C\n",
       "2024-04-01  0.294547  0.098186  1.069532\n",
       "2024-04-02 -0.236064 -0.046320 -0.656822\n",
       "2024-04-03 -1.169434 -0.200888  2.649257\n",
       "2024-04-04 -0.615174 -0.008988 -0.416590\n",
       "2024-04-05 -1.736736 -1.198327  0.405947\n",
       "2024-04-06 -1.163557 -2.232601  1.421231\n",
       "2024-04-07 -0.604983 -1.095105 -0.752102\n",
       "2024-04-08 -0.191559 -0.507523 -0.605789\n",
       "2024-04-09  1.051745 -0.317009  0.928733\n",
       "2024-04-10 -1.886873  0.404516  0.210867"
      ]
     },
     "execution_count": 121,
     "metadata": {},
     "output_type": "execute_result"
    }
   ],
   "source": [
    "df.iloc[:,:-1]"
   ]
  },
  {
   "cell_type": "code",
   "execution_count": 124,
   "id": "e92e55a5",
   "metadata": {},
   "outputs": [
    {
     "data": {
      "text/html": [
       "<div>\n",
       "<style scoped>\n",
       "    .dataframe tbody tr th:only-of-type {\n",
       "        vertical-align: middle;\n",
       "    }\n",
       "\n",
       "    .dataframe tbody tr th {\n",
       "        vertical-align: top;\n",
       "    }\n",
       "\n",
       "    .dataframe thead th {\n",
       "        text-align: right;\n",
       "    }\n",
       "</style>\n",
       "<table border=\"1\" class=\"dataframe\">\n",
       "  <thead>\n",
       "    <tr style=\"text-align: right;\">\n",
       "      <th></th>\n",
       "      <th>D</th>\n",
       "    </tr>\n",
       "  </thead>\n",
       "  <tbody>\n",
       "    <tr>\n",
       "      <th>2024-04-01</th>\n",
       "      <td>-0.544626</td>\n",
       "    </tr>\n",
       "    <tr>\n",
       "      <th>2024-04-02</th>\n",
       "      <td>-1.335055</td>\n",
       "    </tr>\n",
       "    <tr>\n",
       "      <th>2024-04-03</th>\n",
       "      <td>-1.600009</td>\n",
       "    </tr>\n",
       "    <tr>\n",
       "      <th>2024-04-04</th>\n",
       "      <td>-1.368853</td>\n",
       "    </tr>\n",
       "    <tr>\n",
       "      <th>2024-04-05</th>\n",
       "      <td>-0.895075</td>\n",
       "    </tr>\n",
       "    <tr>\n",
       "      <th>2024-04-06</th>\n",
       "      <td>-0.307724</td>\n",
       "    </tr>\n",
       "    <tr>\n",
       "      <th>2024-04-07</th>\n",
       "      <td>-1.017102</td>\n",
       "    </tr>\n",
       "    <tr>\n",
       "      <th>2024-04-08</th>\n",
       "      <td>0.119537</td>\n",
       "    </tr>\n",
       "    <tr>\n",
       "      <th>2024-04-09</th>\n",
       "      <td>0.958397</td>\n",
       "    </tr>\n",
       "    <tr>\n",
       "      <th>2024-04-10</th>\n",
       "      <td>-0.606436</td>\n",
       "    </tr>\n",
       "  </tbody>\n",
       "</table>\n",
       "</div>"
      ],
      "text/plain": [
       "                   D\n",
       "2024-04-01 -0.544626\n",
       "2024-04-02 -1.335055\n",
       "2024-04-03 -1.600009\n",
       "2024-04-04 -1.368853\n",
       "2024-04-05 -0.895075\n",
       "2024-04-06 -0.307724\n",
       "2024-04-07 -1.017102\n",
       "2024-04-08  0.119537\n",
       "2024-04-09  0.958397\n",
       "2024-04-10 -0.606436"
      ]
     },
     "execution_count": 124,
     "metadata": {},
     "output_type": "execute_result"
    }
   ],
   "source": [
    "df.iloc[:,-1:]"
   ]
  },
  {
   "cell_type": "code",
   "execution_count": 125,
   "id": "83e17507",
   "metadata": {},
   "outputs": [],
   "source": [
    "z = df.copy()"
   ]
  },
  {
   "cell_type": "code",
   "execution_count": 126,
   "id": "bddde96b",
   "metadata": {},
   "outputs": [
    {
     "data": {
      "text/html": [
       "<div>\n",
       "<style scoped>\n",
       "    .dataframe tbody tr th:only-of-type {\n",
       "        vertical-align: middle;\n",
       "    }\n",
       "\n",
       "    .dataframe tbody tr th {\n",
       "        vertical-align: top;\n",
       "    }\n",
       "\n",
       "    .dataframe thead th {\n",
       "        text-align: right;\n",
       "    }\n",
       "</style>\n",
       "<table border=\"1\" class=\"dataframe\">\n",
       "  <thead>\n",
       "    <tr style=\"text-align: right;\">\n",
       "      <th></th>\n",
       "      <th>A</th>\n",
       "      <th>B</th>\n",
       "      <th>C</th>\n",
       "      <th>D</th>\n",
       "    </tr>\n",
       "  </thead>\n",
       "  <tbody>\n",
       "    <tr>\n",
       "      <th>2024-04-01</th>\n",
       "      <td>0.294547</td>\n",
       "      <td>0.098186</td>\n",
       "      <td>1.069532</td>\n",
       "      <td>-0.544626</td>\n",
       "    </tr>\n",
       "    <tr>\n",
       "      <th>2024-04-02</th>\n",
       "      <td>-0.236064</td>\n",
       "      <td>-0.046320</td>\n",
       "      <td>-0.656822</td>\n",
       "      <td>-1.335055</td>\n",
       "    </tr>\n",
       "    <tr>\n",
       "      <th>2024-04-03</th>\n",
       "      <td>-1.169434</td>\n",
       "      <td>-0.200888</td>\n",
       "      <td>2.649257</td>\n",
       "      <td>-1.600009</td>\n",
       "    </tr>\n",
       "    <tr>\n",
       "      <th>2024-04-04</th>\n",
       "      <td>-0.615174</td>\n",
       "      <td>-0.008988</td>\n",
       "      <td>-0.416590</td>\n",
       "      <td>-1.368853</td>\n",
       "    </tr>\n",
       "    <tr>\n",
       "      <th>2024-04-05</th>\n",
       "      <td>-1.736736</td>\n",
       "      <td>-1.198327</td>\n",
       "      <td>0.405947</td>\n",
       "      <td>-0.895075</td>\n",
       "    </tr>\n",
       "    <tr>\n",
       "      <th>2024-04-06</th>\n",
       "      <td>-1.163557</td>\n",
       "      <td>-2.232601</td>\n",
       "      <td>1.421231</td>\n",
       "      <td>-0.307724</td>\n",
       "    </tr>\n",
       "    <tr>\n",
       "      <th>2024-04-07</th>\n",
       "      <td>-0.604983</td>\n",
       "      <td>-1.095105</td>\n",
       "      <td>-0.752102</td>\n",
       "      <td>-1.017102</td>\n",
       "    </tr>\n",
       "    <tr>\n",
       "      <th>2024-04-08</th>\n",
       "      <td>-0.191559</td>\n",
       "      <td>-0.507523</td>\n",
       "      <td>-0.605789</td>\n",
       "      <td>0.119537</td>\n",
       "    </tr>\n",
       "    <tr>\n",
       "      <th>2024-04-09</th>\n",
       "      <td>1.051745</td>\n",
       "      <td>-0.317009</td>\n",
       "      <td>0.928733</td>\n",
       "      <td>0.958397</td>\n",
       "    </tr>\n",
       "    <tr>\n",
       "      <th>2024-04-10</th>\n",
       "      <td>-1.886873</td>\n",
       "      <td>0.404516</td>\n",
       "      <td>0.210867</td>\n",
       "      <td>-0.606436</td>\n",
       "    </tr>\n",
       "  </tbody>\n",
       "</table>\n",
       "</div>"
      ],
      "text/plain": [
       "                   A         B         C         D\n",
       "2024-04-01  0.294547  0.098186  1.069532 -0.544626\n",
       "2024-04-02 -0.236064 -0.046320 -0.656822 -1.335055\n",
       "2024-04-03 -1.169434 -0.200888  2.649257 -1.600009\n",
       "2024-04-04 -0.615174 -0.008988 -0.416590 -1.368853\n",
       "2024-04-05 -1.736736 -1.198327  0.405947 -0.895075\n",
       "2024-04-06 -1.163557 -2.232601  1.421231 -0.307724\n",
       "2024-04-07 -0.604983 -1.095105 -0.752102 -1.017102\n",
       "2024-04-08 -0.191559 -0.507523 -0.605789  0.119537\n",
       "2024-04-09  1.051745 -0.317009  0.928733  0.958397\n",
       "2024-04-10 -1.886873  0.404516  0.210867 -0.606436"
      ]
     },
     "execution_count": 126,
     "metadata": {},
     "output_type": "execute_result"
    }
   ],
   "source": [
    "z"
   ]
  },
  {
   "cell_type": "code",
   "execution_count": 127,
   "id": "2240945e",
   "metadata": {},
   "outputs": [
    {
     "data": {
      "text/plain": [
       "A   -0.625809\n",
       "B   -0.510406\n",
       "C    0.425426\n",
       "D   -0.659694\n",
       "dtype: float64"
      ]
     },
     "execution_count": 127,
     "metadata": {},
     "output_type": "execute_result"
    }
   ],
   "source": [
    "df.mean()"
   ]
  },
  {
   "cell_type": "code",
   "execution_count": 129,
   "id": "9bfed02e",
   "metadata": {},
   "outputs": [
    {
     "data": {
      "text/html": [
       "<div>\n",
       "<style scoped>\n",
       "    .dataframe tbody tr th:only-of-type {\n",
       "        vertical-align: middle;\n",
       "    }\n",
       "\n",
       "    .dataframe tbody tr th {\n",
       "        vertical-align: top;\n",
       "    }\n",
       "\n",
       "    .dataframe thead th {\n",
       "        text-align: right;\n",
       "    }\n",
       "</style>\n",
       "<table border=\"1\" class=\"dataframe\">\n",
       "  <thead>\n",
       "    <tr style=\"text-align: right;\">\n",
       "      <th></th>\n",
       "      <th>A</th>\n",
       "      <th>B</th>\n",
       "      <th>C</th>\n",
       "      <th>D</th>\n",
       "    </tr>\n",
       "  </thead>\n",
       "  <tbody>\n",
       "    <tr>\n",
       "      <th>2024-04-01</th>\n",
       "      <td>294.546879</td>\n",
       "      <td>98.186345</td>\n",
       "      <td>1069.531529</td>\n",
       "      <td>-544.625593</td>\n",
       "    </tr>\n",
       "    <tr>\n",
       "      <th>2024-04-02</th>\n",
       "      <td>-236.064123</td>\n",
       "      <td>-46.319658</td>\n",
       "      <td>-656.821600</td>\n",
       "      <td>-1335.054537</td>\n",
       "    </tr>\n",
       "    <tr>\n",
       "      <th>2024-04-03</th>\n",
       "      <td>-1169.433581</td>\n",
       "      <td>-200.888436</td>\n",
       "      <td>2649.257326</td>\n",
       "      <td>-1600.009248</td>\n",
       "    </tr>\n",
       "    <tr>\n",
       "      <th>2024-04-04</th>\n",
       "      <td>-615.173763</td>\n",
       "      <td>-8.988193</td>\n",
       "      <td>-416.590198</td>\n",
       "      <td>-1368.853216</td>\n",
       "    </tr>\n",
       "    <tr>\n",
       "      <th>2024-04-05</th>\n",
       "      <td>-1736.736473</td>\n",
       "      <td>-1198.326763</td>\n",
       "      <td>405.947402</td>\n",
       "      <td>-895.074505</td>\n",
       "    </tr>\n",
       "    <tr>\n",
       "      <th>2024-04-06</th>\n",
       "      <td>-1163.556730</td>\n",
       "      <td>-2232.601360</td>\n",
       "      <td>1421.231091</td>\n",
       "      <td>-307.723921</td>\n",
       "    </tr>\n",
       "    <tr>\n",
       "      <th>2024-04-07</th>\n",
       "      <td>-604.982741</td>\n",
       "      <td>-1095.105324</td>\n",
       "      <td>-752.102365</td>\n",
       "      <td>-1017.101861</td>\n",
       "    </tr>\n",
       "    <tr>\n",
       "      <th>2024-04-08</th>\n",
       "      <td>-191.558736</td>\n",
       "      <td>-507.523347</td>\n",
       "      <td>-605.788710</td>\n",
       "      <td>119.537317</td>\n",
       "    </tr>\n",
       "    <tr>\n",
       "      <th>2024-04-09</th>\n",
       "      <td>1051.744686</td>\n",
       "      <td>-317.008763</td>\n",
       "      <td>928.732592</td>\n",
       "      <td>958.397438</td>\n",
       "    </tr>\n",
       "    <tr>\n",
       "      <th>2024-04-10</th>\n",
       "      <td>-1886.872799</td>\n",
       "      <td>404.515598</td>\n",
       "      <td>210.866722</td>\n",
       "      <td>-606.435914</td>\n",
       "    </tr>\n",
       "  </tbody>\n",
       "</table>\n",
       "</div>"
      ],
      "text/plain": [
       "                      A            B            C            D\n",
       "2024-04-01   294.546879    98.186345  1069.531529  -544.625593\n",
       "2024-04-02  -236.064123   -46.319658  -656.821600 -1335.054537\n",
       "2024-04-03 -1169.433581  -200.888436  2649.257326 -1600.009248\n",
       "2024-04-04  -615.173763    -8.988193  -416.590198 -1368.853216\n",
       "2024-04-05 -1736.736473 -1198.326763   405.947402  -895.074505\n",
       "2024-04-06 -1163.556730 -2232.601360  1421.231091  -307.723921\n",
       "2024-04-07  -604.982741 -1095.105324  -752.102365 -1017.101861\n",
       "2024-04-08  -191.558736  -507.523347  -605.788710   119.537317\n",
       "2024-04-09  1051.744686  -317.008763   928.732592   958.397438\n",
       "2024-04-10 -1886.872799   404.515598   210.866722  -606.435914"
      ]
     },
     "execution_count": 129,
     "metadata": {},
     "output_type": "execute_result"
    }
   ],
   "source": [
    "df * 1000"
   ]
  },
  {
   "cell_type": "code",
   "execution_count": 130,
   "id": "cea2a63e",
   "metadata": {},
   "outputs": [
    {
     "data": {
      "text/html": [
       "<div>\n",
       "<style scoped>\n",
       "    .dataframe tbody tr th:only-of-type {\n",
       "        vertical-align: middle;\n",
       "    }\n",
       "\n",
       "    .dataframe tbody tr th {\n",
       "        vertical-align: top;\n",
       "    }\n",
       "\n",
       "    .dataframe thead th {\n",
       "        text-align: right;\n",
       "    }\n",
       "</style>\n",
       "<table border=\"1\" class=\"dataframe\">\n",
       "  <thead>\n",
       "    <tr style=\"text-align: right;\">\n",
       "      <th></th>\n",
       "      <th>A</th>\n",
       "      <th>B</th>\n",
       "      <th>C</th>\n",
       "      <th>D</th>\n",
       "    </tr>\n",
       "  </thead>\n",
       "  <tbody>\n",
       "    <tr>\n",
       "      <th>2024-04-01</th>\n",
       "      <td>100000.294547</td>\n",
       "      <td>100000.098186</td>\n",
       "      <td>100001.069532</td>\n",
       "      <td>99999.455374</td>\n",
       "    </tr>\n",
       "    <tr>\n",
       "      <th>2024-04-02</th>\n",
       "      <td>99999.763936</td>\n",
       "      <td>99999.953680</td>\n",
       "      <td>99999.343178</td>\n",
       "      <td>99998.664945</td>\n",
       "    </tr>\n",
       "    <tr>\n",
       "      <th>2024-04-03</th>\n",
       "      <td>99998.830566</td>\n",
       "      <td>99999.799112</td>\n",
       "      <td>100002.649257</td>\n",
       "      <td>99998.399991</td>\n",
       "    </tr>\n",
       "    <tr>\n",
       "      <th>2024-04-04</th>\n",
       "      <td>99999.384826</td>\n",
       "      <td>99999.991012</td>\n",
       "      <td>99999.583410</td>\n",
       "      <td>99998.631147</td>\n",
       "    </tr>\n",
       "    <tr>\n",
       "      <th>2024-04-05</th>\n",
       "      <td>99998.263264</td>\n",
       "      <td>99998.801673</td>\n",
       "      <td>100000.405947</td>\n",
       "      <td>99999.104925</td>\n",
       "    </tr>\n",
       "    <tr>\n",
       "      <th>2024-04-06</th>\n",
       "      <td>99998.836443</td>\n",
       "      <td>99997.767399</td>\n",
       "      <td>100001.421231</td>\n",
       "      <td>99999.692276</td>\n",
       "    </tr>\n",
       "    <tr>\n",
       "      <th>2024-04-07</th>\n",
       "      <td>99999.395017</td>\n",
       "      <td>99998.904895</td>\n",
       "      <td>99999.247898</td>\n",
       "      <td>99998.982898</td>\n",
       "    </tr>\n",
       "    <tr>\n",
       "      <th>2024-04-08</th>\n",
       "      <td>99999.808441</td>\n",
       "      <td>99999.492477</td>\n",
       "      <td>99999.394211</td>\n",
       "      <td>100000.119537</td>\n",
       "    </tr>\n",
       "    <tr>\n",
       "      <th>2024-04-09</th>\n",
       "      <td>100001.051745</td>\n",
       "      <td>99999.682991</td>\n",
       "      <td>100000.928733</td>\n",
       "      <td>100000.958397</td>\n",
       "    </tr>\n",
       "    <tr>\n",
       "      <th>2024-04-10</th>\n",
       "      <td>99998.113127</td>\n",
       "      <td>100000.404516</td>\n",
       "      <td>100000.210867</td>\n",
       "      <td>99999.393564</td>\n",
       "    </tr>\n",
       "  </tbody>\n",
       "</table>\n",
       "</div>"
      ],
      "text/plain": [
       "                        A              B              C              D\n",
       "2024-04-01  100000.294547  100000.098186  100001.069532   99999.455374\n",
       "2024-04-02   99999.763936   99999.953680   99999.343178   99998.664945\n",
       "2024-04-03   99998.830566   99999.799112  100002.649257   99998.399991\n",
       "2024-04-04   99999.384826   99999.991012   99999.583410   99998.631147\n",
       "2024-04-05   99998.263264   99998.801673  100000.405947   99999.104925\n",
       "2024-04-06   99998.836443   99997.767399  100001.421231   99999.692276\n",
       "2024-04-07   99999.395017   99998.904895   99999.247898   99998.982898\n",
       "2024-04-08   99999.808441   99999.492477   99999.394211  100000.119537\n",
       "2024-04-09  100001.051745   99999.682991  100000.928733  100000.958397\n",
       "2024-04-10   99998.113127  100000.404516  100000.210867   99999.393564"
      ]
     },
     "execution_count": 130,
     "metadata": {},
     "output_type": "execute_result"
    }
   ],
   "source": [
    "df + 100000"
   ]
  },
  {
   "cell_type": "code",
   "execution_count": 131,
   "id": "e688d58c",
   "metadata": {},
   "outputs": [
    {
     "data": {
      "text/html": [
       "<div>\n",
       "<style scoped>\n",
       "    .dataframe tbody tr th:only-of-type {\n",
       "        vertical-align: middle;\n",
       "    }\n",
       "\n",
       "    .dataframe tbody tr th {\n",
       "        vertical-align: top;\n",
       "    }\n",
       "\n",
       "    .dataframe thead th {\n",
       "        text-align: right;\n",
       "    }\n",
       "</style>\n",
       "<table border=\"1\" class=\"dataframe\">\n",
       "  <thead>\n",
       "    <tr style=\"text-align: right;\">\n",
       "      <th></th>\n",
       "      <th>A</th>\n",
       "      <th>B</th>\n",
       "      <th>C</th>\n",
       "      <th>D</th>\n",
       "    </tr>\n",
       "  </thead>\n",
       "  <tbody>\n",
       "    <tr>\n",
       "      <th>2024-04-01</th>\n",
       "      <td>0.000295</td>\n",
       "      <td>0.000098</td>\n",
       "      <td>0.001070</td>\n",
       "      <td>-0.000545</td>\n",
       "    </tr>\n",
       "    <tr>\n",
       "      <th>2024-04-02</th>\n",
       "      <td>-0.000236</td>\n",
       "      <td>-0.000046</td>\n",
       "      <td>-0.000657</td>\n",
       "      <td>-0.001335</td>\n",
       "    </tr>\n",
       "    <tr>\n",
       "      <th>2024-04-03</th>\n",
       "      <td>-0.001169</td>\n",
       "      <td>-0.000201</td>\n",
       "      <td>0.002649</td>\n",
       "      <td>-0.001600</td>\n",
       "    </tr>\n",
       "    <tr>\n",
       "      <th>2024-04-04</th>\n",
       "      <td>-0.000615</td>\n",
       "      <td>-0.000009</td>\n",
       "      <td>-0.000417</td>\n",
       "      <td>-0.001369</td>\n",
       "    </tr>\n",
       "    <tr>\n",
       "      <th>2024-04-05</th>\n",
       "      <td>-0.001737</td>\n",
       "      <td>-0.001198</td>\n",
       "      <td>0.000406</td>\n",
       "      <td>-0.000895</td>\n",
       "    </tr>\n",
       "    <tr>\n",
       "      <th>2024-04-06</th>\n",
       "      <td>-0.001164</td>\n",
       "      <td>-0.002233</td>\n",
       "      <td>0.001421</td>\n",
       "      <td>-0.000308</td>\n",
       "    </tr>\n",
       "    <tr>\n",
       "      <th>2024-04-07</th>\n",
       "      <td>-0.000605</td>\n",
       "      <td>-0.001095</td>\n",
       "      <td>-0.000752</td>\n",
       "      <td>-0.001017</td>\n",
       "    </tr>\n",
       "    <tr>\n",
       "      <th>2024-04-08</th>\n",
       "      <td>-0.000192</td>\n",
       "      <td>-0.000508</td>\n",
       "      <td>-0.000606</td>\n",
       "      <td>0.000120</td>\n",
       "    </tr>\n",
       "    <tr>\n",
       "      <th>2024-04-09</th>\n",
       "      <td>0.001052</td>\n",
       "      <td>-0.000317</td>\n",
       "      <td>0.000929</td>\n",
       "      <td>0.000958</td>\n",
       "    </tr>\n",
       "    <tr>\n",
       "      <th>2024-04-10</th>\n",
       "      <td>-0.001887</td>\n",
       "      <td>0.000405</td>\n",
       "      <td>0.000211</td>\n",
       "      <td>-0.000606</td>\n",
       "    </tr>\n",
       "  </tbody>\n",
       "</table>\n",
       "</div>"
      ],
      "text/plain": [
       "                   A         B         C         D\n",
       "2024-04-01  0.000295  0.000098  0.001070 -0.000545\n",
       "2024-04-02 -0.000236 -0.000046 -0.000657 -0.001335\n",
       "2024-04-03 -0.001169 -0.000201  0.002649 -0.001600\n",
       "2024-04-04 -0.000615 -0.000009 -0.000417 -0.001369\n",
       "2024-04-05 -0.001737 -0.001198  0.000406 -0.000895\n",
       "2024-04-06 -0.001164 -0.002233  0.001421 -0.000308\n",
       "2024-04-07 -0.000605 -0.001095 -0.000752 -0.001017\n",
       "2024-04-08 -0.000192 -0.000508 -0.000606  0.000120\n",
       "2024-04-09  0.001052 -0.000317  0.000929  0.000958\n",
       "2024-04-10 -0.001887  0.000405  0.000211 -0.000606"
      ]
     },
     "execution_count": 131,
     "metadata": {},
     "output_type": "execute_result"
    }
   ],
   "source": [
    "df / 1000"
   ]
  },
  {
   "cell_type": "code",
   "execution_count": 134,
   "id": "028b4942",
   "metadata": {},
   "outputs": [
    {
     "data": {
      "text/html": [
       "<div>\n",
       "<style scoped>\n",
       "    .dataframe tbody tr th:only-of-type {\n",
       "        vertical-align: middle;\n",
       "    }\n",
       "\n",
       "    .dataframe tbody tr th {\n",
       "        vertical-align: top;\n",
       "    }\n",
       "\n",
       "    .dataframe thead th {\n",
       "        text-align: right;\n",
       "    }\n",
       "</style>\n",
       "<table border=\"1\" class=\"dataframe\">\n",
       "  <thead>\n",
       "    <tr style=\"text-align: right;\">\n",
       "      <th></th>\n",
       "      <th>A</th>\n",
       "      <th>B</th>\n",
       "      <th>C</th>\n",
       "      <th>D</th>\n",
       "      <th>E</th>\n",
       "      <th>F</th>\n",
       "    </tr>\n",
       "  </thead>\n",
       "  <tbody>\n",
       "    <tr>\n",
       "      <th>0</th>\n",
       "      <td>1.0</td>\n",
       "      <td>2024-04-01</td>\n",
       "      <td>4.0</td>\n",
       "      <td>3</td>\n",
       "      <td>test</td>\n",
       "      <td>food</td>\n",
       "    </tr>\n",
       "    <tr>\n",
       "      <th>1</th>\n",
       "      <td>1.0</td>\n",
       "      <td>2024-04-01</td>\n",
       "      <td>4.0</td>\n",
       "      <td>3</td>\n",
       "      <td>train</td>\n",
       "      <td>food</td>\n",
       "    </tr>\n",
       "    <tr>\n",
       "      <th>2</th>\n",
       "      <td>1.0</td>\n",
       "      <td>2024-04-01</td>\n",
       "      <td>4.0</td>\n",
       "      <td>3</td>\n",
       "      <td>test</td>\n",
       "      <td>food</td>\n",
       "    </tr>\n",
       "    <tr>\n",
       "      <th>3</th>\n",
       "      <td>1.0</td>\n",
       "      <td>2024-04-01</td>\n",
       "      <td>4.0</td>\n",
       "      <td>3</td>\n",
       "      <td>train</td>\n",
       "      <td>food</td>\n",
       "    </tr>\n",
       "  </tbody>\n",
       "</table>\n",
       "</div>"
      ],
      "text/plain": [
       "     A          B    C  D      E     F\n",
       "0  1.0 2024-04-01  4.0  3   test  food\n",
       "1  1.0 2024-04-01  4.0  3  train  food\n",
       "2  1.0 2024-04-01  4.0  3   test  food\n",
       "3  1.0 2024-04-01  4.0  3  train  food"
      ]
     },
     "execution_count": 134,
     "metadata": {},
     "output_type": "execute_result"
    }
   ],
   "source": [
    "df2"
   ]
  },
  {
   "cell_type": "markdown",
   "id": "00ef980e",
   "metadata": {},
   "source": [
    "# Matplotlib"
   ]
  },
  {
   "cell_type": "code",
   "execution_count": 136,
   "id": "5c79c2b1",
   "metadata": {},
   "outputs": [],
   "source": [
    "import matplotlib.pyplot as plt"
   ]
  },
  {
   "cell_type": "code",
   "execution_count": null,
   "id": "40fb861c",
   "metadata": {},
   "outputs": [],
   "source": []
  }
 ],
 "metadata": {
  "kernelspec": {
   "display_name": "Python 3 (ipykernel)",
   "language": "python",
   "name": "python3"
  },
  "language_info": {
   "codemirror_mode": {
    "name": "ipython",
    "version": 3
   },
   "file_extension": ".py",
   "mimetype": "text/x-python",
   "name": "python",
   "nbconvert_exporter": "python",
   "pygments_lexer": "ipython3",
   "version": "3.11.5"
  }
 },
 "nbformat": 4,
 "nbformat_minor": 5
}
